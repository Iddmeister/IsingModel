{
 "cells": [
  {
   "cell_type": "code",
   "execution_count": 52,
   "metadata": {},
   "outputs": [],
   "source": [
    "import pandas as pd\n",
    "import numpy as np\n",
    "import matplotlib.pyplot as plt\n",
    "\n",
    "fig, (ax, ax2) = plt.subplots(2, sharex=True)\n",
    "\n",
    "df = pd.read_csv(\"output.csv\")\n",
    "ax.scatter(df[\"iterations\"], df[\"energy\"])\n",
    "ax.plot(df[\"iterations\"], df[\"energy\"], ls=\"dotted\")\n",
    "\n",
    "ax.set_xscale(\"log\")\n",
    "ax.set_ylabel(\"Total Energy\")\n",
    "\n",
    "ax.spines['top'].set_color('#FFFFFF')\n",
    "ax.spines['right'].set_color('#FFFFFF')\n",
    "\n",
    "ax2.scatter(df[\"iterations\"], df[\"magnetism\"], color=\"red\")\n",
    "ax2.plot(df[\"iterations\"], df[\"magnetism\"], ls=\"dotted\", color=\"red\")\n",
    "\n",
    "ax2.set_xscale(\"log\")\n",
    "ax2.set_ylabel(\"Magnetism\")\n",
    "ax2.set_xlabel(\"Iterations\")\n",
    "\n",
    "ax2.spines['top'].set_color('#FFFFFF')\n",
    "ax2.spines['right'].set_color('#FFFFFF')\n",
    "\n",
    "fig.savefig(\"images/Total_Energy_and_Magnetism_Vs_Iterations_2D.png\")\n",
    "\n",
    "\n",
    "\n",
    "\n",
    "\n",
    "\n"
   ]
  },
  {
   "cell_type": "code",
   "execution_count": null,
   "metadata": {},
   "outputs": [],
   "source": []
  }
 ],
 "metadata": {
  "kernelspec": {
   "display_name": "Python 3",
   "language": "python",
   "name": "python3"
  },
  "language_info": {
   "codemirror_mode": {
    "name": "ipython",
    "version": 3
   },
   "file_extension": ".py",
   "mimetype": "text/x-python",
   "name": "python",
   "nbconvert_exporter": "python",
   "pygments_lexer": "ipython3",
   "version": "3.8.18"
  }
 },
 "nbformat": 4,
 "nbformat_minor": 2
}
